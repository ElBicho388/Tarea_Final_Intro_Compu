{
 "cells": [
  {
   "cell_type": "markdown",
   "id": "e073cf7a",
   "metadata": {},
   "source": [
    "\n",
    "# Integrantes:\n",
    "\n",
    "## Jose David Garavito Barragán - 2200019 - Grupo PA2 - 12:00pm\n",
    "\n",
    "## Jose Raul Martinez Afanador - 2200797 - Grupo A1 - 6:00am\n",
    "\n",
    "## Nathalia Alexandra Perez Rojas - 2200023 - Grupo A1 - 6:00am\n",
    "\n",
    "\"El exito no espera\" "
   ]
  },
  {
   "cell_type": "code",
   "execution_count": 1,
   "id": "a9f69702",
   "metadata": {},
   "outputs": [],
   "source": [
    "import numpy as np\n",
    "import pandas as pd\n",
    "import matplotlib.pyplot as plt"
   ]
  },
  {
   "cell_type": "markdown",
   "id": "f9912238",
   "metadata": {},
   "source": [
    "Importamos los datos"
   ]
  },
  {
   "cell_type": "code",
   "execution_count": 2,
   "id": "c3aa8245",
   "metadata": {},
   "outputs": [],
   "source": [
    "active_power = pd.read_csv(\"Global_active_power.csv\") #Datos Global_Intensity\n",
    "\n",
    "intensity = pd.read_csv(\"Global_intensity.csv\") #Datos de Intensidad\n",
    "\n",
    "reactive_power = pd.read_csv(\"Global_reactive_power.csv\") #Datos de potencia reactiva\n",
    "\n",
    "voltage = pd.read_csv(\"Voltage.csv\") #Datos de Voltaje\n"
   ]
  },
  {
   "cell_type": "markdown",
   "id": "bdd75706",
   "metadata": {},
   "source": [
    "Combinamos estos 4 tipo de datos en un solo dataframe."
   ]
  },
  {
   "cell_type": "code",
   "execution_count": 3,
   "id": "21dde56d",
   "metadata": {},
   "outputs": [],
   "source": [
    "info = active_power #Creamos el Dateframe se ciclará en el for y lo igualamos a al primer conjunto de datos para que poseea\n",
    "                    #la información necesaria para que el comando merge lo trabaje.\n",
    "\n",
    "for i in [intensity, reactive_power, voltage ]: #Vamos por ciclos conbinando los diferentes tipos de datos.\n",
    "    info = pd.merge(info, i, on =\"datetime\")\n",
    "\n",
    "info['datetime'] = pd.to_datetime(info['datetime'])#Le indico A Pandas que la columna \"Datetime\" corresponde a la columna \"datetime\"\n",
    "                                                   #que el espera leer para poder aplicar el resample"
   ]
  },
  {
   "cell_type": "code",
   "execution_count": 4,
   "id": "28a1bc24",
   "metadata": {},
   "outputs": [
    {
     "data": {
      "text/html": [
       "<div>\n",
       "<style scoped>\n",
       "    .dataframe tbody tr th:only-of-type {\n",
       "        vertical-align: middle;\n",
       "    }\n",
       "\n",
       "    .dataframe tbody tr th {\n",
       "        vertical-align: top;\n",
       "    }\n",
       "\n",
       "    .dataframe thead th {\n",
       "        text-align: right;\n",
       "    }\n",
       "</style>\n",
       "<table border=\"1\" class=\"dataframe\">\n",
       "  <thead>\n",
       "    <tr style=\"text-align: right;\">\n",
       "      <th></th>\n",
       "      <th>datetime</th>\n",
       "      <th>Global_active_power</th>\n",
       "      <th>Global_intensity</th>\n",
       "      <th>Global_reactive_power</th>\n",
       "      <th>Voltage</th>\n",
       "    </tr>\n",
       "  </thead>\n",
       "  <tbody>\n",
       "    <tr>\n",
       "      <th>0</th>\n",
       "      <td>2010-01-01 00:00:00</td>\n",
       "      <td>1.790</td>\n",
       "      <td>7.4</td>\n",
       "      <td>0.236</td>\n",
       "      <td>240.65</td>\n",
       "    </tr>\n",
       "    <tr>\n",
       "      <th>1</th>\n",
       "      <td>2010-01-01 00:01:00</td>\n",
       "      <td>1.780</td>\n",
       "      <td>7.4</td>\n",
       "      <td>0.234</td>\n",
       "      <td>240.07</td>\n",
       "    </tr>\n",
       "    <tr>\n",
       "      <th>2</th>\n",
       "      <td>2010-01-01 00:02:00</td>\n",
       "      <td>1.780</td>\n",
       "      <td>7.4</td>\n",
       "      <td>0.234</td>\n",
       "      <td>240.15</td>\n",
       "    </tr>\n",
       "    <tr>\n",
       "      <th>3</th>\n",
       "      <td>2010-01-01 00:03:00</td>\n",
       "      <td>1.746</td>\n",
       "      <td>7.2</td>\n",
       "      <td>0.186</td>\n",
       "      <td>240.26</td>\n",
       "    </tr>\n",
       "    <tr>\n",
       "      <th>4</th>\n",
       "      <td>2010-01-01 00:04:00</td>\n",
       "      <td>1.686</td>\n",
       "      <td>7.0</td>\n",
       "      <td>0.102</td>\n",
       "      <td>240.12</td>\n",
       "    </tr>\n",
       "    <tr>\n",
       "      <th>...</th>\n",
       "      <td>...</td>\n",
       "      <td>...</td>\n",
       "      <td>...</td>\n",
       "      <td>...</td>\n",
       "      <td>...</td>\n",
       "    </tr>\n",
       "    <tr>\n",
       "      <th>457390</th>\n",
       "      <td>2010-11-26 20:58:00</td>\n",
       "      <td>0.946</td>\n",
       "      <td>4.0</td>\n",
       "      <td>0.000</td>\n",
       "      <td>240.43</td>\n",
       "    </tr>\n",
       "    <tr>\n",
       "      <th>457391</th>\n",
       "      <td>2010-11-26 20:59:00</td>\n",
       "      <td>0.944</td>\n",
       "      <td>4.0</td>\n",
       "      <td>0.000</td>\n",
       "      <td>240.00</td>\n",
       "    </tr>\n",
       "    <tr>\n",
       "      <th>457392</th>\n",
       "      <td>2010-11-26 21:00:00</td>\n",
       "      <td>0.938</td>\n",
       "      <td>3.8</td>\n",
       "      <td>0.000</td>\n",
       "      <td>239.82</td>\n",
       "    </tr>\n",
       "    <tr>\n",
       "      <th>457393</th>\n",
       "      <td>2010-11-26 21:01:00</td>\n",
       "      <td>0.934</td>\n",
       "      <td>3.8</td>\n",
       "      <td>0.000</td>\n",
       "      <td>239.70</td>\n",
       "    </tr>\n",
       "    <tr>\n",
       "      <th>457394</th>\n",
       "      <td>2010-11-26 21:02:00</td>\n",
       "      <td>0.932</td>\n",
       "      <td>3.8</td>\n",
       "      <td>0.000</td>\n",
       "      <td>239.55</td>\n",
       "    </tr>\n",
       "  </tbody>\n",
       "</table>\n",
       "<p>457395 rows × 5 columns</p>\n",
       "</div>"
      ],
      "text/plain": [
       "                  datetime  Global_active_power  Global_intensity  \\\n",
       "0      2010-01-01 00:00:00                1.790               7.4   \n",
       "1      2010-01-01 00:01:00                1.780               7.4   \n",
       "2      2010-01-01 00:02:00                1.780               7.4   \n",
       "3      2010-01-01 00:03:00                1.746               7.2   \n",
       "4      2010-01-01 00:04:00                1.686               7.0   \n",
       "...                    ...                  ...               ...   \n",
       "457390 2010-11-26 20:58:00                0.946               4.0   \n",
       "457391 2010-11-26 20:59:00                0.944               4.0   \n",
       "457392 2010-11-26 21:00:00                0.938               3.8   \n",
       "457393 2010-11-26 21:01:00                0.934               3.8   \n",
       "457394 2010-11-26 21:02:00                0.932               3.8   \n",
       "\n",
       "        Global_reactive_power  Voltage  \n",
       "0                       0.236   240.65  \n",
       "1                       0.234   240.07  \n",
       "2                       0.234   240.15  \n",
       "3                       0.186   240.26  \n",
       "4                       0.102   240.12  \n",
       "...                       ...      ...  \n",
       "457390                  0.000   240.43  \n",
       "457391                  0.000   240.00  \n",
       "457392                  0.000   239.82  \n",
       "457393                  0.000   239.70  \n",
       "457394                  0.000   239.55  \n",
       "\n",
       "[457395 rows x 5 columns]"
      ]
     },
     "execution_count": 4,
     "metadata": {},
     "output_type": "execute_result"
    }
   ],
   "source": [
    "info"
   ]
  },
  {
   "cell_type": "code",
   "execution_count": 5,
   "id": "ee0f2358",
   "metadata": {},
   "outputs": [
    {
     "data": {
      "text/html": [
       "<div>\n",
       "<style scoped>\n",
       "    .dataframe tbody tr th:only-of-type {\n",
       "        vertical-align: middle;\n",
       "    }\n",
       "\n",
       "    .dataframe tbody tr th {\n",
       "        vertical-align: top;\n",
       "    }\n",
       "\n",
       "    .dataframe thead th {\n",
       "        text-align: right;\n",
       "    }\n",
       "</style>\n",
       "<table border=\"1\" class=\"dataframe\">\n",
       "  <thead>\n",
       "    <tr style=\"text-align: right;\">\n",
       "      <th></th>\n",
       "      <th>Global_active_power</th>\n",
       "      <th>Global_intensity</th>\n",
       "      <th>Global_reactive_power</th>\n",
       "      <th>Voltage</th>\n",
       "    </tr>\n",
       "    <tr>\n",
       "      <th>datetime</th>\n",
       "      <th></th>\n",
       "      <th></th>\n",
       "      <th></th>\n",
       "      <th></th>\n",
       "    </tr>\n",
       "  </thead>\n",
       "  <tbody>\n",
       "    <tr>\n",
       "      <th>2010-01-01</th>\n",
       "      <td>0.850175</td>\n",
       "      <td>3.537083</td>\n",
       "      <td>0.114817</td>\n",
       "      <td>242.565722</td>\n",
       "    </tr>\n",
       "    <tr>\n",
       "      <th>2010-01-02</th>\n",
       "      <td>1.176235</td>\n",
       "      <td>4.857778</td>\n",
       "      <td>0.086656</td>\n",
       "      <td>243.631743</td>\n",
       "    </tr>\n",
       "    <tr>\n",
       "      <th>2010-01-03</th>\n",
       "      <td>0.901894</td>\n",
       "      <td>3.757778</td>\n",
       "      <td>0.090331</td>\n",
       "      <td>241.822778</td>\n",
       "    </tr>\n",
       "    <tr>\n",
       "      <th>2010-01-04</th>\n",
       "      <td>1.171833</td>\n",
       "      <td>4.879028</td>\n",
       "      <td>0.100322</td>\n",
       "      <td>241.754160</td>\n",
       "    </tr>\n",
       "    <tr>\n",
       "      <th>2010-01-05</th>\n",
       "      <td>0.916776</td>\n",
       "      <td>3.929861</td>\n",
       "      <td>0.133697</td>\n",
       "      <td>240.647167</td>\n",
       "    </tr>\n",
       "    <tr>\n",
       "      <th>...</th>\n",
       "      <td>...</td>\n",
       "      <td>...</td>\n",
       "      <td>...</td>\n",
       "      <td>...</td>\n",
       "    </tr>\n",
       "    <tr>\n",
       "      <th>2010-12-07</th>\n",
       "      <td>0.770538</td>\n",
       "      <td>3.397222</td>\n",
       "      <td>0.198550</td>\n",
       "      <td>240.218646</td>\n",
       "    </tr>\n",
       "    <tr>\n",
       "      <th>2010-12-08</th>\n",
       "      <td>0.367846</td>\n",
       "      <td>1.623750</td>\n",
       "      <td>0.117429</td>\n",
       "      <td>240.794931</td>\n",
       "    </tr>\n",
       "    <tr>\n",
       "      <th>2010-12-09</th>\n",
       "      <td>1.119508</td>\n",
       "      <td>4.755694</td>\n",
       "      <td>0.139832</td>\n",
       "      <td>241.619722</td>\n",
       "    </tr>\n",
       "    <tr>\n",
       "      <th>2010-12-10</th>\n",
       "      <td>1.097008</td>\n",
       "      <td>4.681389</td>\n",
       "      <td>0.118242</td>\n",
       "      <td>240.260674</td>\n",
       "    </tr>\n",
       "    <tr>\n",
       "      <th>2010-12-11</th>\n",
       "      <td>1.275571</td>\n",
       "      <td>5.434861</td>\n",
       "      <td>0.104961</td>\n",
       "      <td>238.837896</td>\n",
       "    </tr>\n",
       "  </tbody>\n",
       "</table>\n",
       "<p>323 rows × 4 columns</p>\n",
       "</div>"
      ],
      "text/plain": [
       "            Global_active_power  Global_intensity  Global_reactive_power  \\\n",
       "datetime                                                                   \n",
       "2010-01-01             0.850175          3.537083               0.114817   \n",
       "2010-01-02             1.176235          4.857778               0.086656   \n",
       "2010-01-03             0.901894          3.757778               0.090331   \n",
       "2010-01-04             1.171833          4.879028               0.100322   \n",
       "2010-01-05             0.916776          3.929861               0.133697   \n",
       "...                         ...               ...                    ...   \n",
       "2010-12-07             0.770538          3.397222               0.198550   \n",
       "2010-12-08             0.367846          1.623750               0.117429   \n",
       "2010-12-09             1.119508          4.755694               0.139832   \n",
       "2010-12-10             1.097008          4.681389               0.118242   \n",
       "2010-12-11             1.275571          5.434861               0.104961   \n",
       "\n",
       "               Voltage  \n",
       "datetime                \n",
       "2010-01-01  242.565722  \n",
       "2010-01-02  243.631743  \n",
       "2010-01-03  241.822778  \n",
       "2010-01-04  241.754160  \n",
       "2010-01-05  240.647167  \n",
       "...                ...  \n",
       "2010-12-07  240.218646  \n",
       "2010-12-08  240.794931  \n",
       "2010-12-09  241.619722  \n",
       "2010-12-10  240.260674  \n",
       "2010-12-11  238.837896  \n",
       "\n",
       "[323 rows x 4 columns]"
      ]
     },
     "execution_count": 5,
     "metadata": {},
     "output_type": "execute_result"
    }
   ],
   "source": [
    "info_day = info.resample('D', on = 'datetime').mean().dropna() #El resample a días los .dropna() y .fillna(0) son para arrelgar\n",
    "                                                               #el problemas de las cración de Nan's\n",
    "#.dropna()\n",
    "\n",
    "#.fillna(0)\n",
    "\n",
    "info_day\n"
   ]
  },
  {
   "cell_type": "code",
   "execution_count": 6,
   "id": "eeb55ece",
   "metadata": {},
   "outputs": [
    {
     "data": {
      "text/html": [
       "<div>\n",
       "<style scoped>\n",
       "    .dataframe tbody tr th:only-of-type {\n",
       "        vertical-align: middle;\n",
       "    }\n",
       "\n",
       "    .dataframe tbody tr th {\n",
       "        vertical-align: top;\n",
       "    }\n",
       "\n",
       "    .dataframe thead th {\n",
       "        text-align: right;\n",
       "    }\n",
       "</style>\n",
       "<table border=\"1\" class=\"dataframe\">\n",
       "  <thead>\n",
       "    <tr style=\"text-align: right;\">\n",
       "      <th></th>\n",
       "      <th>Global_active_power</th>\n",
       "      <th>Global_intensity</th>\n",
       "      <th>Global_reactive_power</th>\n",
       "      <th>Voltage</th>\n",
       "    </tr>\n",
       "    <tr>\n",
       "      <th>datetime</th>\n",
       "      <th></th>\n",
       "      <th></th>\n",
       "      <th></th>\n",
       "      <th></th>\n",
       "    </tr>\n",
       "  </thead>\n",
       "  <tbody>\n",
       "    <tr>\n",
       "      <th>2010-01-31</th>\n",
       "      <td>1.300640</td>\n",
       "      <td>5.430332</td>\n",
       "      <td>0.125182</td>\n",
       "      <td>242.338522</td>\n",
       "    </tr>\n",
       "    <tr>\n",
       "      <th>2010-02-28</th>\n",
       "      <td>1.157539</td>\n",
       "      <td>4.836624</td>\n",
       "      <td>0.109467</td>\n",
       "      <td>242.002101</td>\n",
       "    </tr>\n",
       "    <tr>\n",
       "      <th>2010-03-31</th>\n",
       "      <td>1.170015</td>\n",
       "      <td>4.920399</td>\n",
       "      <td>0.136368</td>\n",
       "      <td>241.475284</td>\n",
       "    </tr>\n",
       "    <tr>\n",
       "      <th>2010-04-30</th>\n",
       "      <td>1.036334</td>\n",
       "      <td>4.363496</td>\n",
       "      <td>0.129557</td>\n",
       "      <td>241.442527</td>\n",
       "    </tr>\n",
       "    <tr>\n",
       "      <th>2010-05-31</th>\n",
       "      <td>1.075957</td>\n",
       "      <td>4.551504</td>\n",
       "      <td>0.127221</td>\n",
       "      <td>241.296151</td>\n",
       "    </tr>\n",
       "    <tr>\n",
       "      <th>2010-06-30</th>\n",
       "      <td>0.975306</td>\n",
       "      <td>4.170282</td>\n",
       "      <td>0.145525</td>\n",
       "      <td>240.888985</td>\n",
       "    </tr>\n",
       "    <tr>\n",
       "      <th>2010-07-31</th>\n",
       "      <td>0.778947</td>\n",
       "      <td>3.337202</td>\n",
       "      <td>0.138093</td>\n",
       "      <td>240.965167</td>\n",
       "    </tr>\n",
       "    <tr>\n",
       "      <th>2010-08-31</th>\n",
       "      <td>0.929452</td>\n",
       "      <td>3.954423</td>\n",
       "      <td>0.130815</td>\n",
       "      <td>241.422944</td>\n",
       "    </tr>\n",
       "    <tr>\n",
       "      <th>2010-09-30</th>\n",
       "      <td>0.997541</td>\n",
       "      <td>4.223837</td>\n",
       "      <td>0.127700</td>\n",
       "      <td>241.267517</td>\n",
       "    </tr>\n",
       "    <tr>\n",
       "      <th>2010-10-31</th>\n",
       "      <td>1.127749</td>\n",
       "      <td>4.732904</td>\n",
       "      <td>0.134547</td>\n",
       "      <td>242.515451</td>\n",
       "    </tr>\n",
       "    <tr>\n",
       "      <th>2010-11-30</th>\n",
       "      <td>1.106450</td>\n",
       "      <td>4.679594</td>\n",
       "      <td>0.115390</td>\n",
       "      <td>241.024739</td>\n",
       "    </tr>\n",
       "    <tr>\n",
       "      <th>2010-12-31</th>\n",
       "      <td>1.107559</td>\n",
       "      <td>4.673267</td>\n",
       "      <td>0.129499</td>\n",
       "      <td>241.420479</td>\n",
       "    </tr>\n",
       "  </tbody>\n",
       "</table>\n",
       "</div>"
      ],
      "text/plain": [
       "            Global_active_power  Global_intensity  Global_reactive_power  \\\n",
       "datetime                                                                   \n",
       "2010-01-31             1.300640          5.430332               0.125182   \n",
       "2010-02-28             1.157539          4.836624               0.109467   \n",
       "2010-03-31             1.170015          4.920399               0.136368   \n",
       "2010-04-30             1.036334          4.363496               0.129557   \n",
       "2010-05-31             1.075957          4.551504               0.127221   \n",
       "2010-06-30             0.975306          4.170282               0.145525   \n",
       "2010-07-31             0.778947          3.337202               0.138093   \n",
       "2010-08-31             0.929452          3.954423               0.130815   \n",
       "2010-09-30             0.997541          4.223837               0.127700   \n",
       "2010-10-31             1.127749          4.732904               0.134547   \n",
       "2010-11-30             1.106450          4.679594               0.115390   \n",
       "2010-12-31             1.107559          4.673267               0.129499   \n",
       "\n",
       "               Voltage  \n",
       "datetime                \n",
       "2010-01-31  242.338522  \n",
       "2010-02-28  242.002101  \n",
       "2010-03-31  241.475284  \n",
       "2010-04-30  241.442527  \n",
       "2010-05-31  241.296151  \n",
       "2010-06-30  240.888985  \n",
       "2010-07-31  240.965167  \n",
       "2010-08-31  241.422944  \n",
       "2010-09-30  241.267517  \n",
       "2010-10-31  242.515451  \n",
       "2010-11-30  241.024739  \n",
       "2010-12-31  241.420479  "
      ]
     },
     "execution_count": 6,
     "metadata": {},
     "output_type": "execute_result"
    }
   ],
   "source": [
    "info_month = info.resample('M', on = 'datetime').mean() #Hago el resample en meses\n",
    "\n",
    "info_month"
   ]
  },
  {
   "cell_type": "markdown",
   "id": "e1b87a83",
   "metadata": {},
   "source": [
    "## Arreglos\n"
   ]
  },
  {
   "cell_type": "markdown",
   "id": "41f61ba0",
   "metadata": {},
   "source": [
    "Realizaremos las regresiones lineales"
   ]
  },
  {
   "cell_type": "code",
   "execution_count": 7,
   "id": "c2c57430",
   "metadata": {},
   "outputs": [],
   "source": [
    "from scipy.optimize import curve_fit "
   ]
  },
  {
   "cell_type": "code",
   "execution_count": 8,
   "id": "0c5d7238",
   "metadata": {},
   "outputs": [],
   "source": [
    "#Definimos la funciones\n",
    "\n",
    "def func1(x, a, b): #Funcion lineal que piden para la realción 1  y 2 del indicativo. \n",
    "    return a*x+b\n",
    "\n",
    "def func2(T,a, b, c): #Funcion lineal de dos variables que piden para la realción 3 del indicativo. \n",
    "    \n",
    "    x,y = T\n",
    "    \n",
    "    return a*x+b*y+c\n",
    "\n"
   ]
  },
  {
   "cell_type": "markdown",
   "id": "fe0f8324",
   "metadata": {},
   "source": [
    "Trabajamos la función \"Global_active_power = A * Global_intensity + B\"-------------------------------------------------------------------------------------------"
   ]
  },
  {
   "cell_type": "code",
   "execution_count": 9,
   "id": "c37e9304",
   "metadata": {
    "scrolled": true
   },
   "outputs": [
    {
     "name": "stdout",
     "output_type": "stream",
     "text": [
      "[ 0.2380262  -0.00498205] [[ 3.46180362e-10 -1.55034856e-09]\n",
      " [-1.55034856e-09  1.22472325e-08]]\n"
     ]
    }
   ],
   "source": [
    "#Regresión con la funcion 1 para todos los datos, caso \"Global_intensity vs Global_active_power\"\n",
    "valores_1, cov_1 = curve_fit(func1,info['Global_intensity'], info['Global_active_power'] ) #Aplicamos el curve_fit a info \n",
    "print(valores_1, cov_1)"
   ]
  },
  {
   "cell_type": "code",
   "execution_count": 10,
   "id": "f1b518e8",
   "metadata": {
    "scrolled": true
   },
   "outputs": [
    {
     "name": "stdout",
     "output_type": "stream",
     "text": [
      "[ 0.24305793 -0.02753221] [[ 3.60524111e-07 -1.61599679e-06]\n",
      " [-1.61599679e-06  7.96556511e-06]]\n"
     ]
    }
   ],
   "source": [
    "#Regresión con la funcion 1 para los datos de días, caso \"Global_intensity vs Global_active_power\"\n",
    "valores_2, cov_2 = curve_fit(func1,info_day['Global_intensity'], info_day['Global_active_power'] ) #Aplicamos el curve_fit a info_day\n",
    "print(valores_2, cov_2)"
   ]
  },
  {
   "cell_type": "code",
   "execution_count": 11,
   "id": "48541d1c",
   "metadata": {},
   "outputs": [
    {
     "name": "stdout",
     "output_type": "stream",
     "text": [
      "[ 0.25042854 -0.06067193] [[ 6.53213024e-06 -2.93259233e-05]\n",
      " [-2.93259233e-05  1.33360438e-04]]\n"
     ]
    }
   ],
   "source": [
    "#Regresión con la funcion 1 para los datos de meses, caso \"Global_intensity vs Global_active_power\"\n",
    "valores_3, cov_3 = curve_fit(func1,info_month['Global_intensity'], info_month['Global_active_power'] ) #Aplicamos el curve_fit a info_month\n",
    "print(valores_3, cov_3)"
   ]
  },
  {
   "cell_type": "markdown",
   "id": "fd834141",
   "metadata": {},
   "source": [
    "Trabajamos la función \"Global_active_power = A * Voltage + B\"-----------------------------------------------------------------------------------------------------"
   ]
  },
  {
   "cell_type": "code",
   "execution_count": 12,
   "id": "63f2a3f8",
   "metadata": {
    "scrolled": true
   },
   "outputs": [
    {
     "name": "stdout",
     "output_type": "stream",
     "text": [
      "[-0.13586092 33.87352423] [[ 1.93757045e-07 -4.67953331e-05]\n",
      " [-4.67953331e-05  1.13033742e-02]]\n"
     ]
    }
   ],
   "source": [
    "#Regresión con la funcion 1 para todos los datos, caso \"Voltage vs Global_active_power\"\n",
    "valores_11, cov_11 = curve_fit(func1,info['Voltage'], info['Global_active_power'] ) #Aplicamos el curve_fit a info \n",
    "print(valores_11, cov_11)"
   ]
  },
  {
   "cell_type": "code",
   "execution_count": 13,
   "id": "a8d119fd",
   "metadata": {},
   "outputs": [
    {
     "name": "stdout",
     "output_type": "stream",
     "text": [
      "[ 0.0296603  -6.10166907] [[ 1.53189306e-04 -3.69985603e-02]\n",
      " [-3.69985603e-02  8.93632254e+00]]\n"
     ]
    }
   ],
   "source": [
    "#Regresión con la funcion 1 para los datos en días, caso \"Voltage vs Global_active_power\"\n",
    "valores_22, cov_22 = curve_fit(func1,info_day['Voltage'], info_day['Global_active_power'] ) #Aplicamos el curve_fit a info_day\n",
    "print(valores_22, cov_22)"
   ]
  },
  {
   "cell_type": "code",
   "execution_count": 14,
   "id": "60a4a1aa",
   "metadata": {},
   "outputs": [
    {
     "name": "stdout",
     "output_type": "stream",
     "text": [
      "[  0.17281052 -40.67097826] [[ 3.59400196e-03 -8.67969399e-01]\n",
      " [-8.67969399e-01  2.09619833e+02]]\n"
     ]
    }
   ],
   "source": [
    "#Regresión con la funcion 1 para los datos en meses, caso \"Voltage vs Global_active_power\"\n",
    "valores_33, cov_33 = curve_fit(func1,info_month['Voltage'], info_month['Global_active_power'] ) #Aplicamos el curve_fit a info_month\n",
    "print(valores_33, cov_33)"
   ]
  },
  {
   "cell_type": "markdown",
   "id": "940a37c0",
   "metadata": {},
   "source": [
    "Trabajamos la función \"Global_active_power = A * Global_intensity + B * Voltage + c\"--------------------------------------------------------------------------------------------"
   ]
  },
  {
   "cell_type": "code",
   "execution_count": 15,
   "id": "06a4dd7e",
   "metadata": {},
   "outputs": [
    {
     "name": "stdout",
     "output_type": "stream",
     "text": [
      "[ 0.23947996  0.00466923 -1.13918528] [[ 3.98278208e-10  2.33715096e-10 -5.82294884e-08]\n",
      " [ 2.33715096e-10  7.50652075e-10 -1.82340805e-07]\n",
      " [-5.82294884e-08 -1.82340805e-07  4.43038990e-05]]\n"
     ]
    }
   ],
   "source": [
    "#Regresión con la funcion 2 para todos los datos, caso \"Global_intensity and Voltage vs Global_active_power\"\n",
    "valores_111, cov_111 = curve_fit(func2, (info['Global_intensity'],info['Voltage']), info['Global_active_power'], ) #Aplicamos el curve_fit a info \n",
    "print(valores_111, cov_111)"
   ]
  },
  {
   "cell_type": "code",
   "execution_count": 16,
   "id": "a70fcdaf",
   "metadata": {},
   "outputs": [
    {
     "name": "stdout",
     "output_type": "stream",
     "text": [
      "[ 0.24235044  0.00617299 -1.51527187] [[ 2.24889242e-07 -2.17950629e-08  4.25595007e-06]\n",
      " [-2.17950629e-08  1.90166376e-07 -4.58316365e-05]\n",
      " [ 4.25595007e-06 -4.58316365e-05  1.10507091e-02]]\n"
     ]
    }
   ],
   "source": [
    "#Regresión con la funcion 2 para los datos de días, caso \"Global_intensity and Voltage vs Global_active_power\"\n",
    "valores_222, cov_222 = curve_fit(func2, (info_day['Global_intensity'],info_day['Voltage']), info_day['Global_active_power'], ) #Aplicamos el curve_fit a info_day\n",
    "print(valores_222, cov_222)"
   ]
  },
  {
   "cell_type": "code",
   "execution_count": 17,
   "id": "859120b2",
   "metadata": {},
   "outputs": [
    {
     "name": "stdout",
     "output_type": "stream",
     "text": [
      "[ 0.24524991  0.00808133 -1.98910306] [[ 5.81962448e-06 -3.90891703e-06  9.17895831e-04]\n",
      " [-3.90891703e-06  6.09992323e-06 -1.45561286e-03]\n",
      " [ 9.17895831e-04 -1.45561286e-03  3.47417751e-01]]\n"
     ]
    }
   ],
   "source": [
    "#Regresión con la funcion 2 para los datos de meses, caso \"Global_intensity and Voltage vs Global_active_power\"\n",
    "valores_333, cov_333 = curve_fit(func2, (info_month['Global_intensity'],info_month['Voltage']), info_month['Global_active_power'], ) #Aplicamos el curve_fit a info_month\n",
    "print(valores_333, cov_333)"
   ]
  },
  {
   "cell_type": "markdown",
   "id": "7a1fbe12",
   "metadata": {},
   "source": [
    "## Graficamos"
   ]
  },
  {
   "cell_type": "markdown",
   "id": "acccf324",
   "metadata": {},
   "source": [
    "Para \"Global_active_power = A * Global_intensity + B\" -----------------------------------------------------------------------------------------------------"
   ]
  },
  {
   "cell_type": "code",
   "execution_count": 18,
   "id": "c6f2c502",
   "metadata": {},
   "outputs": [
    {
     "data": {
      "image/png": "[encoded data removed]",
      "text/plain": [
       "<Figure size 432x288 with 1 Axes>"
      ]
     },
     "metadata": {
      "needs_background": "light"
     },
     "output_type": "display_data"
    }
   ],
   "source": [
    "#Grafica la regresión\n",
    "plt.plot(info['Global_intensity'], func1(info['Global_intensity'], *valores_1), 'r-',label='fit: a=%5.3f, b=%5.3f' % tuple(valores_1))\n",
    "#Grafica los puntos\n",
    "plt.scatter(info['Global_intensity'],info['Global_active_power'] ,label=\"Original data\")\n",
    "\n",
    "plt.legend()#Legenda\n",
    "plt.title(\"Datos en minutos(Intesidad vs Potencia activa)\") #Titulo\n",
    "plt.show() #Mostrar las figuras creadas"
   ]
  },
  {
   "cell_type": "code",
   "execution_count": 19,
   "id": "062f9fba",
   "metadata": {},
   "outputs": [
    {
     "data": {
      "image/png": "[encoded data removed]",
      "text/plain": [
       "<Figure size 432x288 with 1 Axes>"
      ]
     },
     "metadata": {
      "needs_background": "light"
     },
     "output_type": "display_data"
    }
   ],
   "source": [
    "#Grafica la regresión\n",
    "plt.plot(info_day['Global_intensity'], func1(info_day['Global_intensity'], *valores_2), 'r-',label='fit: a=%5.3f, b=%5.3f' % tuple(valores_2))\n",
    "#Grafica los puntos\n",
    "plt.scatter(info_day['Global_intensity'],info_day['Global_active_power'] ,label=\"Valores medidos\")\n",
    "\n",
    "plt.legend()\n",
    "plt.title(\"Datos en días(Intesidad vs Potencia activa)\")\n",
    "plt.show()"
   ]
  },
  {
   "cell_type": "code",
   "execution_count": 20,
   "id": "62310dc5",
   "metadata": {},
   "outputs": [
    {
     "data": {
      "image/png": "[encoded data removed]",
      "text/plain": [
       "<Figure size 432x288 with 1 Axes>"
      ]
     },
     "metadata": {
      "needs_background": "light"
     },
     "output_type": "display_data"
    }
   ],
   "source": [
    "#Grafica la regresión\n",
    "plt.plot(info_month['Global_intensity'], func1(info_month['Global_intensity'], *valores_3), 'r-',label='fit: a=%5.3f, b=%5.3f' % tuple(valores_3))\n",
    "#Grafica los puntos\n",
    "plt.scatter(info_month['Global_intensity'],info_month['Global_active_power'] ,label=\"Valores medidos\")\n",
    "\n",
    "plt.legend()\n",
    "plt.title(\"Datos en meses(Intesidad vs Potencia activa)\")\n",
    "plt.show()"
   ]
  },
  {
   "cell_type": "markdown",
   "id": "e24157f0",
   "metadata": {},
   "source": [
    "Para \"Global_active_power = A * Voltage + B\"-----------------------------------------------------------------------------------------------------"
   ]
  },
  {
   "cell_type": "code",
   "execution_count": 21,
   "id": "f037fe3b",
   "metadata": {},
   "outputs": [
    {
     "data": {
      "image/png": "[encoded data removed]",
      "text/plain": [
       "<Figure size 432x288 with 1 Axes>"
      ]
     },
     "metadata": {
      "needs_background": "light"
     },
     "output_type": "display_data"
    }
   ],
   "source": [
    "#Grafica la regresión\n",
    "plt.plot(info['Voltage'], func1(info['Voltage'], *valores_11), 'r-',label='fit: a=%5.3f, b=%5.3f' % tuple(valores_11))\n",
    "#Grafica los puntos\n",
    "plt.scatter(info['Voltage'],info['Global_active_power'] ,label=\"Original data\")\n",
    "plt.legend()\n",
    "plt.title(\"Datos en minutos(Voltaje vs Potencia Activa)\")\n",
    "plt.show()"
   ]
  },
  {
   "cell_type": "code",
   "execution_count": 22,
   "id": "0e94d025",
   "metadata": {},
   "outputs": [
    {
     "data": {
      "image/png": "[encoded data removed]",
      "text/plain": [
       "<Figure size 432x288 with 1 Axes>"
      ]
     },
     "metadata": {
      "needs_background": "light"
     },
     "output_type": "display_data"
    }
   ],
   "source": [
    "#Grafica la regresión\n",
    "plt.plot(info_day['Voltage'], func1(info_day['Voltage'], *valores_22), 'r-',label='fit: a=%5.3f, b=%5.3f' % tuple(valores_22))\n",
    "#Grafica los puntos\n",
    "plt.scatter(info_day['Voltage'],info_day['Global_active_power'] ,label=\"Valores medidos\")\n",
    "plt.legend()\n",
    "plt.title(\"Datos en días(Voltaje vs Potencia Activa\")\n",
    "plt.show()"
   ]
  },
  {
   "cell_type": "code",
   "execution_count": 23,
   "id": "93c77dd8",
   "metadata": {},
   "outputs": [
    {
     "data": {
      "image/png": "[encoded data removed]",
      "text/plain": [
       "<Figure size 432x288 with 1 Axes>"
      ]
     },
     "metadata": {
      "needs_background": "light"
     },
     "output_type": "display_data"
    }
   ],
   "source": [
    "#Grafica la regresión\n",
    "plt.plot(info_month['Voltage'], func1(info_month['Voltage'], *valores_33), 'r-',label='fit: a=%5.3f, b=%5.3f' % tuple(valores_33))\n",
    "#Grafica los puntos\n",
    "plt.scatter(info_month['Voltage'],info_month['Global_active_power'] ,label=\"Valores medidos\")\n",
    "plt.legend()\n",
    "plt.title(\"Datos en meses(Voltaje vs Potencia Activa)\")\n",
    "plt.show()"
   ]
  },
  {
   "cell_type": "markdown",
   "id": "0a72b05b",
   "metadata": {},
   "source": [
    "Para \"Global_active_power = A * Global_intensity + B * Voltage + c\"----------------------------------------------------------------------------------------------------------------\n"
   ]
  },
  {
   "cell_type": "code",
   "execution_count": 24,
   "id": "424ff1af",
   "metadata": {},
   "outputs": [],
   "source": [
    "#Gráfica en 3D puesto que hay dos varibles independientes."
   ]
  },
  {
   "cell_type": "markdown",
   "id": "5827649b",
   "metadata": {},
   "source": [
    "## Incertidumbres y Coeficiente de correlación de Pearson"
   ]
  },
  {
   "cell_type": "markdown",
   "id": "1b4066ae",
   "metadata": {},
   "source": [
    "Para \"Global_active_power = A * Global_intensity + B\" -----------------------------------------------------------------------------------------------------"
   ]
  },
  {
   "cell_type": "code",
   "execution_count": 25,
   "id": "7b1d5976",
   "metadata": {},
   "outputs": [
    {
     "name": "stdout",
     "output_type": "stream",
     "text": [
      "Para la relación: Global_active_power = A * Global_intensity + B\n",
      "\n",
      "    Caso Minutos : -------------------------\n",
      "La incertidumbre de A es ±1.8605922759278556e-05\n",
      "El error de A es 1.4543792409640262e-07%\n",
      "La incertidumbre de B es ±0.00011066721489911734\n",
      "El error de B es -0.00024582727297441933%\n",
      "\n",
      "    Caso Días : -------------------------\n",
      "La incertidumbre de A es ±0.0006004366002054684\n",
      "El error de A es 0.0001483284687504559%\n",
      "La incertidumbre de B es ±0.0028223332749294835\n",
      "El error de B es -0.028931802863859768%\n",
      "\n",
      "    Caso Meses : -------------------------\n",
      "La incertidumbre de A es ±0.0025558032483620832\n",
      "El error de A es 0.0026083808999066717%\n",
      "La incertidumbre de B es ±0.011548179012113068\n",
      "El error de B es -0.21980581766649637%\n"
     ]
    }
   ],
   "source": [
    "#Calcula la incertidumbre y coeficiente para la relación 1 pedida en el indicativo de la Taréa\n",
    "print('Para la relación: Global_active_power = A * Global_intensity + B')\n",
    "\n",
    "for i in [(valores_1, cov_1, 'Minutos'), (valores_2, cov_2, 'Días'), (valores_3, cov_3, 'Meses')]: #for para calcular los datos pedios en los\n",
    "    val , cov, caso = i  #Contador de for                                                      #Casos de Minutos, días , meses.\n",
    "    print(f'''\n",
    "    Caso {caso} : -------------------------''') #Texto para dar orden\n",
    "    \n",
    "    incert_a = (cov[0,0])**(1/2) #Se calcula la incertidumbre para A\n",
    "    print(f'La incertidumbre de A es ±{incert_a}') #Se printea de forma ordenada la incertidumbre\n",
    "    print(f'El error de A es {(cov[0,0]/val[0])*100}%')#Se printea y calcula el coeficiente de Pearson para A\n",
    "    \n",
    "    incert_b = (cov[1,1])**(1/2)#Se calcula la incertidumbre para B\n",
    "    print(f'La incertidumbre de B es ±{incert_b}')#Se printea de forma ordenada la incertidumbre\n",
    "    print(f'El error de B es {(cov[1,1]/val[1])*100}%')#Se printea y calcula el coeficiente de Pearson para B\n",
    "    "
   ]
  },
  {
   "cell_type": "markdown",
   "id": "f1417b2f",
   "metadata": {},
   "source": [
    "Para \"Global_active_power = A * Voltage + B\"-----------------------------------------------------------------------------------------------------"
   ]
  },
  {
   "cell_type": "code",
   "execution_count": 26,
   "id": "ae859335",
   "metadata": {},
   "outputs": [
    {
     "name": "stdout",
     "output_type": "stream",
     "text": [
      "Para la relación: Global_active_power = A * Voltage + B\n",
      "\n",
      "    Caso Minutos : -------------------------\n",
      "La incertidumbre de A es ±0.00044017842393056134\n",
      "El error de A es -0.00014261426156837818%\n",
      "La incertidumbre de B es ±0.10631732796825971\n",
      "El error de B es 0.03336934814003287%\n",
      "\n",
      "    Caso Días : -------------------------\n",
      "La incertidumbre de A es ±0.012376966758237679\n",
      "El error de A es 0.5164793681106449%\n",
      "La incertidumbre de B es ±2.989368251397748\n",
      "El error de B es -146.4570174805572%\n",
      "\n",
      "    Caso Meses : -------------------------\n",
      "La incertidumbre de A es ±0.0599499954830184\n",
      "El error de A es 2.079735644851725%\n",
      "La incertidumbre de B es ±14.478253782017891\n",
      "El error de B es -515.403960148575%\n"
     ]
    }
   ],
   "source": [
    "#Calcula la incertidumbre y coeficiente para la relación 3 pedida en el indicativo de la Taréa\n",
    "print('Para la relación: Global_active_power = A * Voltage + B')#Titulo\n",
    "\n",
    "for i in [(valores_11, cov_11, 'Minutos'), (valores_22, cov_22, 'Días'), (valores_33, cov_33, 'Meses')]: #Usar los datos de la represion de los dataframe minutos, días, meses\n",
    "    val , cov, caso = i #Contador\n",
    "    \n",
    "    print(f'''\n",
    "    Caso {caso} : -------------------------''') #Texto para dar orden\n",
    "    \n",
    "    incert_a = (cov[0,0])**(1/2) #Calulo incertidumbre A\n",
    "    print(f'La incertidumbre de A es ±{incert_a}') \n",
    "    print(f'El error de A es {(cov[0,0]/val[0])*100}%') #Calculo coeficiente Pearson A\n",
    "    \n",
    "    incert_b = (cov[1,1])**(1/2)#Calulo incertidumbre B\n",
    "    print(f'La incertidumbre de B es ±{incert_b}')\n",
    "    print(f'El error de B es {(cov[1,1]/val[1])*100}%') #Calculo coeficiente Pearson B\n",
    "    "
   ]
  },
  {
   "cell_type": "markdown",
   "id": "a31147ed",
   "metadata": {},
   "source": [
    "Para \"Global_active_power = A * Global_intensity + B * Voltage + c\"----------------------------------------------------------------------------------------------------------------\n"
   ]
  },
  {
   "cell_type": "code",
   "execution_count": 27,
   "id": "bf3a27e9",
   "metadata": {},
   "outputs": [
    {
     "name": "stdout",
     "output_type": "stream",
     "text": [
      "Para la relación: Global_active_power = A * Global_intensity + B * Voltage + c\n",
      "\n",
      "    Caso Minutos : -------------------------\n",
      "La incertidumbre de A es ±1.9956908777245544e-05\n",
      "El error de A es 1.6630961545682786e-07%\n",
      "La incertidumbre de B es ±2.739803049127181e-05\n",
      "El error de B es 1.6076554993353046e-05%\n",
      "La incertidumbre de C es ±0.00665611741355243\n",
      "El error de C es -0.5842875188889942%\n",
      "\n",
      "    Caso Días : -------------------------\n",
      "La incertidumbre de A es ±0.0004742248856422009\n",
      "El error de A es 9.279506081553392e-05%\n",
      "La incertidumbre de B es ±0.0004360806994253985\n",
      "El error de B es 0.0030806220943985487%\n",
      "La incertidumbre de C es ±0.10512235305473691\n",
      "El error de C es -6.9375242196827935%\n",
      "\n",
      "    Caso Meses : -------------------------\n",
      "La incertidumbre de A es ±0.002412389785533377\n",
      "El error de A es 0.0023729364291729758%\n",
      "La incertidumbre de B es ±0.00246980226487633\n",
      "El error de B es 0.07548171287274748%\n",
      "La incertidumbre de C es ±0.5894215389404722\n",
      "El error de C es -29.632528957532166%\n"
     ]
    }
   ],
   "source": [
    "#Calcula la incertidumbre y coeficiente para la relación 2 pedida en el indicativo de la Taréa\n",
    "print('Para la relación: Global_active_power = A * Global_intensity + B * Voltage + c')#Titulo\n",
    "\n",
    "for i in [(valores_111, cov_111, 'Minutos'), (valores_222, cov_222, 'Días'), (valores_333, cov_333, 'Meses')]: #Usar los datos de la represion de los dataframe minutos, días, meses\n",
    "    \n",
    "    val , cov, caso = i #Contador\n",
    "    \n",
    "    print(f'''\n",
    "    Caso {caso} : -------------------------''') #Texto orden \n",
    "    \n",
    "    incert_a = (cov[0,0])**(1/2)#Calulo incertidumbre A \n",
    "    print(f'La incertidumbre de A es ±{incert_a}')\n",
    "    print(f'El error de A es {(cov[0,0]/val[0])*100}%') #Calculo coeficiente Pearson A\n",
    "    \n",
    "    incert_b = (cov[1,1])**(1/2)#Calulo incertidumbre B\n",
    "    print(f'La incertidumbre de B es ±{incert_b}')\n",
    "    print(f'El error de B es {(cov[1,1]/val[1])*100}%') #Calculo coeficiente Pearson B\n",
    "    \n",
    "    incert_c = (cov[2,2])**(1/2)#Calulo incertidumbre C\n",
    "    print(f'La incertidumbre de C es ±{incert_c}')\n",
    "    print(f'El error de C es {(incert_c/val[2])*100}%') #Calculo coeficiente Pearson C"
   ]
  },
  {
   "cell_type": "markdown",
   "id": "96aa00e2",
   "metadata": {},
   "source": [
    "# Conclusiones"
   ]
  },
  {
   "cell_type": "markdown",
   "id": "cc44b877",
   "metadata": {},
   "source": [
    "Para la primera, segunda y tercera relación, el mejor caso fue con base al coeficiente de Pearson:\n",
    "\n",
    "- El dataFrame de minutos.\n",
    "\n",
    "y el peor:\n",
    "\n",
    "- El dataFrame de meses.\n"
   ]
  },
  {
   "cell_type": "markdown",
   "id": "1b3c14cb",
   "metadata": {},
   "source": [
    "La mejor relación fue la:\n",
    "    \n",
    "- La Primera .\n",
    "\n",
    "La peor:\n",
    "    \n",
    "- La segunda. "
   ]
  },
  {
   "cell_type": "code",
   "execution_count": null,
   "id": "c83e1354",
   "metadata": {},
   "outputs": [],
   "source": []
  }
 ],
 "metadata": {
  "kernelspec": {
   "display_name": "Python 3",
   "language": "python",
   "name": "python3"
  },
  "language_info": {
   "codemirror_mode": {
    "name": "ipython",
    "version": 3
   },
   "file_extension": ".py",
   "mimetype": "text/x-python",
   "name": "python",
   "nbconvert_exporter": "python",
   "pygments_lexer": "ipython3",
   "version": "3.8.8"
  }
 },
 "nbformat": 4,
 "nbformat_minor": 5
}
